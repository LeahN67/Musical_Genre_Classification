{
  "nbformat": 4,
  "nbformat_minor": 0,
  "metadata": {
    "colab": {
      "name": "Spectrogram Code_4 beats_optimized_98%_accuracy.ipynb",
      "provenance": [],
      "collapsed_sections": [],
      "toc_visible": true,
      "include_colab_link": true
    },
    "kernelspec": {
      "name": "python3",
      "display_name": "Python 3"
    },
    "accelerator": "GPU"
  },
  "cells": [
    {
      "cell_type": "markdown",
      "metadata": {
        "id": "view-in-github",
        "colab_type": "text"
      },
      "source": [
        "<a href=\"https://colab.research.google.com/github/LeahN67/Musical_Genre_Classification/blob/master/Spectrogram_Code_4_beats_optimized_98__accuracy.ipynb\" target=\"_parent\"><img src=\"https://colab.research.google.com/assets/colab-badge.svg\" alt=\"Open In Colab\"/></a>"
      ]
    },
    {
      "cell_type": "markdown",
      "metadata": {
        "id": "ubdYS2j-xl43"
      },
      "source": [
        "# Here is the deep learning code for respirosa"
      ]
    },
    {
      "cell_type": "code",
      "metadata": {
        "id": "T68xzWcg2z_x"
      },
      "source": [
        "# make your Google Drive accessible\n",
        "from google.colab import drive\n",
        "import os\n",
        "\n",
        "drive.mount('/content/gdrive', force_remount=True)\n"
      ],
      "execution_count": null,
      "outputs": []
    },
    {
      "cell_type": "code",
      "metadata": {
        "id": "h2GeYbl3Ij1E"
      },
      "source": [
        "from fastai.vision import *\n"
      ],
      "execution_count": null,
      "outputs": []
    },
    {
      "cell_type": "code",
      "metadata": {
        "id": "OtNQdKAFI_jF"
      },
      "source": [
        "# Here we create a function that creates spectograms using the library librosa\n",
        "\n",
        "import os\n",
        "import glob\n",
        "import shutil\n",
        "import random\n",
        "\n",
        "from pathlib import Path\n",
        "import matplotlib.pyplot as plt\n",
        "from matplotlib.pyplot import specgram\n",
        "import librosa\n",
        "import librosa.display\n",
        "import numpy as np\n",
        "\n",
        "\n",
        "\n",
        "def create_fold_spectrograms(fold):\n",
        "    spectrogram_path = Path('/content/drive/My Drive/audio/spectrogram/')\n",
        "    audio_path = Path('/content/drive/My Drive/audio/')\n",
        "    print(f'Processing fold {fold}')\n",
        "    os.mkdir(spectrogram_path/fold)\n",
        "    for audio_file in list(Path(audio_path/f'fold{fold}').glob('*.wav')):\n",
        "        samples, sample_rate = librosa.load(audio_file)\n",
        "        fig = plt.figure(figsize=[0.72,0.72])\n",
        "        ax = fig.add_subplot(111)\n",
        "        ax.axes.get_xaxis().set_visible(False)\n",
        "        ax.axes.get_yaxis().set_visible(False)\n",
        "        ax.set_frame_on(False)\n",
        "        filename  = spectrogram_path/fold/Path(audio_file).name.replace('.wav','.png')\n",
        "        S = librosa.feature.melspectrogram(y=samples, sr=sample_rate)\n",
        "        librosa.display.specshow(librosa.power_to_db(S, ref=np.max))\n",
        "        plt.savefig(filename, dpi=400, bbox_inches='tight',pad_inches=0)\n",
        "        plt.close('all') (edited) \n",
        "\n",
        " #This call here creates spectograms that are saved in the different folds\n",
        "\n",
        "for i in range(1, 3):\n",
        "    create_fold_spectrograms(str(i)) (edited)\n",
        "\n",
        "\n"
      ],
      "execution_count": null,
      "outputs": []
    },
    {
      "cell_type": "code",
      "metadata": {
        "id": "zXuqBqC3oMfR"
      },
      "source": [
        "# # Creating Train / Val / Test folders (One time use)\n",
        "root_dir = '/content/gdrive/My Drive/4beats'\n",
        "classes_dir = ['/60bpm', '/70bpm', '/75bpm', '/76bpm','/77bpm','/78bpm','/79bpm','/80bpm','/82bpm','/83bpm','/84bpm','/85bpm','/86bpm','/89bpm','/90bpm']\n",
        "\n",
        "val_ratio = 0.20\n",
        "\n",
        "for cls in classes_dir:\n",
        "    os.makedirs(root_dir +'/train' + cls)\n",
        "    os.makedirs(root_dir +'/val' + cls)\n",
        "\n",
        "\n",
        "    # Creating partitions of the data after shuffeling\n",
        "    src = root_dir + cls # Folder to copy images from\n",
        "\n",
        "    allFileNames = os.listdir(src)\n",
        "    np.random.shuffle(allFileNames)\n",
        "    train_FileNames, val_FileNames = np.split(np.array(allFileNames),\n",
        "                                                              [int(len(allFileNames)* (1 - val_ratio ))])\n",
        "\n",
        "\n",
        "    train_FileNames = [src+'/'+ name for name in train_FileNames.tolist()]\n",
        "    val_FileNames = [src+'/' + name for name in val_FileNames.tolist()]\n",
        "\n",
        "    print('Total images: '+ str(cls), len(allFileNames))\n",
        "    print('Training: ', len(train_FileNames))\n",
        "    print('Validation: ', len(val_FileNames))\n",
        "\n",
        "    # Copy-pasting images\n",
        "    for name in train_FileNames:\n",
        "        shutil.copy(name, root_dir +'/train' + cls)\n",
        "\n",
        "    for name in val_FileNames:\n",
        "        shutil.copy(name, root_dir +'/val' + cls)"
      ],
      "execution_count": null,
      "outputs": []
    },
    {
      "cell_type": "code",
      "metadata": {
        "id": "JQ-X0AmHOPJl"
      },
      "source": [
        "path = '/content/gdrive/My Drive/4beats/'\n",
        "img_size = 224\n",
        "tfms = get_transforms(do_flip=False)\n",
        "bs = 64\n",
        "data = ImageDataBunch.from_folder(path, ds_tfms=tfms, train='train', valid='val', size=img_size, bs = bs) "
      ],
      "execution_count": null,
      "outputs": []
    },
    {
      "cell_type": "code",
      "metadata": {
        "id": "Y0Sw6z0RSSKX"
      },
      "source": [
        "learn = cnn_learner(data, models.resnet50, metrics=accuracy)\n"
      ],
      "execution_count": null,
      "outputs": []
    },
    {
      "cell_type": "code",
      "metadata": {
        "id": "Vqb5rNORSySC"
      },
      "source": [
        "learn.fit(10)\n",
        "\n"
      ],
      "execution_count": null,
      "outputs": []
    },
    {
      "cell_type": "code",
      "metadata": {
        "id": "veVntoyOcLqX"
      },
      "source": [
        "learn.save('stage-1')\n",
        "learn.load('stage-1')\n",
        "learn.unfreeze()\n",
        "learn.fit_one_cycle(12, max_lr=slice(1e-5, 1e-4))\n"
      ],
      "execution_count": null,
      "outputs": []
    },
    {
      "cell_type": "code",
      "metadata": {
        "id": "OUjkqsjrb18M"
      },
      "source": [
        "learn.lr_find()\n",
        "learn.recorder.plot()"
      ],
      "execution_count": null,
      "outputs": []
    },
    {
      "cell_type": "code",
      "metadata": {
        "id": "tijuEkfzb6gG"
      },
      "source": [
        "learn.save('stage-2')\n",
        "learn.load('stage-2')\n",
        "learn.unfreeze()\n",
        "learn.fit_one_cycle(12, max_lr=slice(1e-5, 1e-4))"
      ],
      "execution_count": null,
      "outputs": []
    },
    {
      "cell_type": "code",
      "metadata": {
        "id": "-_0eTABZS4Zf"
      },
      "source": [
        "interp = ClassificationInterpretation.from_learner(learn)\n"
      ],
      "execution_count": null,
      "outputs": []
    },
    {
      "cell_type": "code",
      "metadata": {
        "id": "VYOJe6cMTvbx"
      },
      "source": [
        "interp.plot_top_losses(9, figsize=(12,12) )\n"
      ],
      "execution_count": null,
      "outputs": []
    },
    {
      "cell_type": "code",
      "metadata": {
        "id": "WJdjF0jaTyKP"
      },
      "source": [
        "interp.plot_confusion_matrix()\n"
      ],
      "execution_count": null,
      "outputs": []
    },
    {
      "cell_type": "code",
      "metadata": {
        "id": "7m2Dr1AVT97n"
      },
      "source": [
        "interp.most_confused(min_val=1)\n"
      ],
      "execution_count": null,
      "outputs": []
    }
  ]
}